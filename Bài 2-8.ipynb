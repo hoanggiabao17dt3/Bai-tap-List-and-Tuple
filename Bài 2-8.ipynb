{
 "cells": [
  {
   "cell_type": "markdown",
   "id": "cbb03461-fe08-43b1-93e5-20bab0eb41aa",
   "metadata": {},
   "source": [
    "## Bài 2: concatenation\n",
    "Hãy tạo ra một list mới bằng cách cộng các phần tử tương ứng của list cũ theo index tương ứng"
   ]
  },
  {
   "cell_type": "code",
   "execution_count": null,
   "id": "24b303f7-23e2-45a5-8c2b-79545c28c4c2",
   "metadata": {},
   "outputs": [],
   "source": [
    "list1 = [\"M\", \"na\", \"i\", \"Ke\"]\n",
    "list2 = [\"y\", \"me\", \"s\", \"lly\"]"
   ]
  },
  {
   "cell_type": "markdown",
   "id": "cb327074-8964-4a85-b389-62a6f5dca695",
   "metadata": {},
   "source": [
    "**Output:**"
   ]
  },
  {
   "cell_type": "code",
   "execution_count": null,
   "id": "90d08edc-657d-4b5d-8d22-b4a2d909d869",
   "metadata": {},
   "outputs": [],
   "source": [
    "['My', 'nambe', 'is', 'Kelly']"
   ]
  },
  {
   "cell_type": "code",
   "execution_count": 2,
   "id": "c5b91f09-5e57-453d-ad00-28ddf3668e0d",
   "metadata": {
    "scrolled": true
   },
   "outputs": [
    {
     "name": "stdout",
     "output_type": "stream",
     "text": [
      "['My', 'name', 'is', 'Kelly']\n"
     ]
    }
   ],
   "source": [
    "list1 = [\"M\", \"na\", \"i\", \"Ke\"]\n",
    "list2 = [\"y\", \"me\", \"s\", \"lly\"]\n",
    "# code below this line\n",
    "result_list = []\n",
    "for i in range(len(list1)):\n",
    "    result_list.append(list1[i] + list2[i])\n",
    "\n",
    "print(result_list)\n",
    "# code above this line"
   ]
  },
  {
   "cell_type": "markdown",
   "id": "0b358d38-ffb6-4340-8988-7e1ef48a959e",
   "metadata": {},
   "source": [
    "## Bài 8: list removement\n",
    "Hãy xóa bỏ **tất cả** số 20 ra khỏi list"
   ]
  },
  {
   "cell_type": "code",
   "execution_count": null,
   "id": "670eda4f-e123-40d2-8db3-64173286f646",
   "metadata": {},
   "outputs": [],
   "source": [
    "list1 = [5, 20, 15, 20, 25, 50, 20]"
   ]
  },
  {
   "cell_type": "code",
   "execution_count": null,
   "id": "9bbf1b36-d3ed-46bf-a207-c9aa8edbdd97",
   "metadata": {},
   "outputs": [],
   "source": [
    "**Output:**"
   ]
  },
  {
   "cell_type": "code",
   "execution_count": null,
   "id": "3ab89d25-2645-4660-81b4-84b48cccede6",
   "metadata": {},
   "outputs": [],
   "source": [
    "[5, 15, 25, 50]"
   ]
  },
  {
   "cell_type": "code",
   "execution_count": 3,
   "id": "acd7f80b-1839-47ff-9dd2-f947223075c2",
   "metadata": {},
   "outputs": [
    {
     "name": "stdout",
     "output_type": "stream",
     "text": [
      "[5, 15, 25, 50]\n"
     ]
    }
   ],
   "source": [
    "list1 = [5, 20, 15, 20, 25, 50, 20]\n",
    "# code below this line\n",
    "for item in list1[:]:\n",
    "    if item == 20:\n",
    "        list1.remove(item)\n",
    "print(list1)\n",
    "# code above this line"
   ]
  }
 ],
 "metadata": {
  "kernelspec": {
   "display_name": "Python 3 (ipykernel)",
   "language": "python",
   "name": "python3"
  },
  "language_info": {
   "codemirror_mode": {
    "name": "ipython",
    "version": 3
   },
   "file_extension": ".py",
   "mimetype": "text/x-python",
   "name": "python",
   "nbconvert_exporter": "python",
   "pygments_lexer": "ipython3",
   "version": "3.12.3"
  }
 },
 "nbformat": 4,
 "nbformat_minor": 5
}
